{
 "cells": [
  {
   "cell_type": "markdown",
   "id": "63ee229a-9aa8-4c8c-aa02-a8a4252d3074",
   "metadata": {},
   "source": [
    "# Thyroid Cancer Recurrence XGBoost"
   ]
  },
  {
   "cell_type": "code",
   "execution_count": 88,
   "id": "732c124b-a1d2-4d06-af7c-771285b73757",
   "metadata": {
    "tags": []
   },
   "outputs": [],
   "source": [
    "import pandas as pd\n",
    "import numpy as np\n",
    "import matplotlib.pyplot as plt\n",
    "import xgboost as xgb\n",
    "import warnings\n",
    "\n",
    "warnings.filterwarnings(\"ignore\")\n"
   ]
  },
  {
   "cell_type": "code",
   "execution_count": 89,
   "id": "e577c49c-feac-4b2b-95d9-edbb30cfca06",
   "metadata": {
    "tags": []
   },
   "outputs": [
    {
     "data": {
      "text/html": [
       "<div>\n",
       "<style scoped>\n",
       "    .dataframe tbody tr th:only-of-type {\n",
       "        vertical-align: middle;\n",
       "    }\n",
       "\n",
       "    .dataframe tbody tr th {\n",
       "        vertical-align: top;\n",
       "    }\n",
       "\n",
       "    .dataframe thead th {\n",
       "        text-align: right;\n",
       "    }\n",
       "</style>\n",
       "<table border=\"1\" class=\"dataframe\">\n",
       "  <thead>\n",
       "    <tr style=\"text-align: right;\">\n",
       "      <th></th>\n",
       "      <th>Age</th>\n",
       "      <th>Gender</th>\n",
       "      <th>Smoking</th>\n",
       "      <th>Hx Smoking</th>\n",
       "      <th>Hx Radiothreapy</th>\n",
       "      <th>Thyroid Function</th>\n",
       "      <th>Physical Examination</th>\n",
       "      <th>Adenopathy</th>\n",
       "      <th>Pathology</th>\n",
       "      <th>Focality</th>\n",
       "      <th>Risk</th>\n",
       "      <th>T</th>\n",
       "      <th>N</th>\n",
       "      <th>M</th>\n",
       "      <th>Stage</th>\n",
       "      <th>Response</th>\n",
       "      <th>Recurred</th>\n",
       "    </tr>\n",
       "  </thead>\n",
       "  <tbody>\n",
       "    <tr>\n",
       "      <th>0</th>\n",
       "      <td>27</td>\n",
       "      <td>F</td>\n",
       "      <td>No</td>\n",
       "      <td>No</td>\n",
       "      <td>No</td>\n",
       "      <td>Euthyroid</td>\n",
       "      <td>Single nodular goiter-left</td>\n",
       "      <td>No</td>\n",
       "      <td>Micropapillary</td>\n",
       "      <td>Uni-Focal</td>\n",
       "      <td>Low</td>\n",
       "      <td>T1a</td>\n",
       "      <td>N0</td>\n",
       "      <td>M0</td>\n",
       "      <td>I</td>\n",
       "      <td>Indeterminate</td>\n",
       "      <td>No</td>\n",
       "    </tr>\n",
       "    <tr>\n",
       "      <th>1</th>\n",
       "      <td>34</td>\n",
       "      <td>F</td>\n",
       "      <td>No</td>\n",
       "      <td>Yes</td>\n",
       "      <td>No</td>\n",
       "      <td>Euthyroid</td>\n",
       "      <td>Multinodular goiter</td>\n",
       "      <td>No</td>\n",
       "      <td>Micropapillary</td>\n",
       "      <td>Uni-Focal</td>\n",
       "      <td>Low</td>\n",
       "      <td>T1a</td>\n",
       "      <td>N0</td>\n",
       "      <td>M0</td>\n",
       "      <td>I</td>\n",
       "      <td>Excellent</td>\n",
       "      <td>No</td>\n",
       "    </tr>\n",
       "    <tr>\n",
       "      <th>2</th>\n",
       "      <td>30</td>\n",
       "      <td>F</td>\n",
       "      <td>No</td>\n",
       "      <td>No</td>\n",
       "      <td>No</td>\n",
       "      <td>Euthyroid</td>\n",
       "      <td>Single nodular goiter-right</td>\n",
       "      <td>No</td>\n",
       "      <td>Micropapillary</td>\n",
       "      <td>Uni-Focal</td>\n",
       "      <td>Low</td>\n",
       "      <td>T1a</td>\n",
       "      <td>N0</td>\n",
       "      <td>M0</td>\n",
       "      <td>I</td>\n",
       "      <td>Excellent</td>\n",
       "      <td>No</td>\n",
       "    </tr>\n",
       "    <tr>\n",
       "      <th>3</th>\n",
       "      <td>62</td>\n",
       "      <td>F</td>\n",
       "      <td>No</td>\n",
       "      <td>No</td>\n",
       "      <td>No</td>\n",
       "      <td>Euthyroid</td>\n",
       "      <td>Single nodular goiter-right</td>\n",
       "      <td>No</td>\n",
       "      <td>Micropapillary</td>\n",
       "      <td>Uni-Focal</td>\n",
       "      <td>Low</td>\n",
       "      <td>T1a</td>\n",
       "      <td>N0</td>\n",
       "      <td>M0</td>\n",
       "      <td>I</td>\n",
       "      <td>Excellent</td>\n",
       "      <td>No</td>\n",
       "    </tr>\n",
       "    <tr>\n",
       "      <th>4</th>\n",
       "      <td>62</td>\n",
       "      <td>F</td>\n",
       "      <td>No</td>\n",
       "      <td>No</td>\n",
       "      <td>No</td>\n",
       "      <td>Euthyroid</td>\n",
       "      <td>Multinodular goiter</td>\n",
       "      <td>No</td>\n",
       "      <td>Micropapillary</td>\n",
       "      <td>Multi-Focal</td>\n",
       "      <td>Low</td>\n",
       "      <td>T1a</td>\n",
       "      <td>N0</td>\n",
       "      <td>M0</td>\n",
       "      <td>I</td>\n",
       "      <td>Excellent</td>\n",
       "      <td>No</td>\n",
       "    </tr>\n",
       "  </tbody>\n",
       "</table>\n",
       "</div>"
      ],
      "text/plain": [
       "   Age Gender Smoking Hx Smoking Hx Radiothreapy Thyroid Function  \\\n",
       "0   27      F      No         No              No        Euthyroid   \n",
       "1   34      F      No        Yes              No        Euthyroid   \n",
       "2   30      F      No         No              No        Euthyroid   \n",
       "3   62      F      No         No              No        Euthyroid   \n",
       "4   62      F      No         No              No        Euthyroid   \n",
       "\n",
       "          Physical Examination Adenopathy       Pathology     Focality Risk  \\\n",
       "0   Single nodular goiter-left         No  Micropapillary    Uni-Focal  Low   \n",
       "1          Multinodular goiter         No  Micropapillary    Uni-Focal  Low   \n",
       "2  Single nodular goiter-right         No  Micropapillary    Uni-Focal  Low   \n",
       "3  Single nodular goiter-right         No  Micropapillary    Uni-Focal  Low   \n",
       "4          Multinodular goiter         No  Micropapillary  Multi-Focal  Low   \n",
       "\n",
       "     T   N   M Stage       Response Recurred  \n",
       "0  T1a  N0  M0     I  Indeterminate       No  \n",
       "1  T1a  N0  M0     I      Excellent       No  \n",
       "2  T1a  N0  M0     I      Excellent       No  \n",
       "3  T1a  N0  M0     I      Excellent       No  \n",
       "4  T1a  N0  M0     I      Excellent       No  "
      ]
     },
     "execution_count": 89,
     "metadata": {},
     "output_type": "execute_result"
    }
   ],
   "source": [
    "cancer = pd.read_csv('Thyroid_Diff.csv')\n",
    "cancer.head()"
   ]
  },
  {
   "cell_type": "markdown",
   "id": "0892a24b-5fe9-4c65-93b9-7c7cd19125d4",
   "metadata": {},
   "source": [
    "## Preprocessing"
   ]
  },
  {
   "cell_type": "code",
   "execution_count": 90,
   "id": "a38be363-8e56-4df8-8e95-320d521a2603",
   "metadata": {
    "tags": []
   },
   "outputs": [],
   "source": [
    "cancer = cancer.rename(columns={'Hx Radiothreapy':'Hx Radiotherapy'})"
   ]
  },
  {
   "cell_type": "code",
   "execution_count": 91,
   "id": "89cb0fc1-3e34-47b3-ba73-cb5ae1bb4c9f",
   "metadata": {
    "tags": []
   },
   "outputs": [],
   "source": [
    "from sklearn.preprocessing import OrdinalEncoder\n",
    "encoder = OrdinalEncoder(categories=[['No','Yes']])\n",
    "cancer['Smoking'] = encoder.fit_transform(cancer[['Smoking']]).astype(int)\n",
    "cancer['Hx Smoking'] = encoder.fit_transform(cancer[['Hx Smoking']]).astype(int)\n",
    "cancer['Hx Radiotherapy'] = encoder.fit_transform(cancer[['Hx Radiotherapy']]).astype(int)"
   ]
  },
  {
   "cell_type": "code",
   "execution_count": 92,
   "id": "e6861bd6-7f3c-4eca-9e15-02f14269d1eb",
   "metadata": {
    "tags": []
   },
   "outputs": [
    {
     "data": {
      "text/plain": [
       "No           277\n",
       "Right         48\n",
       "Bilateral     32\n",
       "Left          17\n",
       "Extensive      7\n",
       "Posterior      2\n",
       "Name: Adenopathy, dtype: int64"
      ]
     },
     "execution_count": 92,
     "metadata": {},
     "output_type": "execute_result"
    }
   ],
   "source": [
    "cancer['Adenopathy'].value_counts()"
   ]
  },
  {
   "cell_type": "markdown",
   "id": "fad08f53-0235-410e-93c1-fee3a8f72d64",
   "metadata": {},
   "source": [
    "Thoughts: We immediately see two options here. We can transform this feature into a binary feature whereby we classify adenopathy as either 0 (No) or 1 (any other value). This does not necessarily preserve all data and if the type of adenopathy affects the recurrence of thyroid cancer then we would be better off using one hot encoding to preserve this information. We can revisit this using one hot encoding later to see if we get a better classifier."
   ]
  },
  {
   "cell_type": "code",
   "execution_count": 93,
   "id": "d418c4b1-48de-4298-8931-e88171cf755a",
   "metadata": {
    "tags": []
   },
   "outputs": [],
   "source": [
    "cancer['Adenopathy'] = cancer['Adenopathy'].apply(lambda x: 0 if x == 'No' else 1)"
   ]
  },
  {
   "cell_type": "code",
   "execution_count": 94,
   "id": "5a39cd8e-c51b-4249-8a0a-680e54c58642",
   "metadata": {
    "tags": []
   },
   "outputs": [],
   "source": [
    "cancer = pd.get_dummies(cancer, columns=['Thyroid Function','Physical Examination', 'Pathology'])"
   ]
  },
  {
   "cell_type": "markdown",
   "id": "eaeff3dd-32c4-4c47-9683-8c1b03b4f05b",
   "metadata": {},
   "source": [
    "From here we would like to ordinally encode values with inherent ordering and turn other categorical variables into binary variables."
   ]
  },
  {
   "cell_type": "code",
   "execution_count": 95,
   "id": "f9cd5da8-8a96-4194-b2e8-2845112347ca",
   "metadata": {
    "tags": []
   },
   "outputs": [],
   "source": [
    "from sklearn.preprocessing import OrdinalEncoder"
   ]
  },
  {
   "cell_type": "code",
   "execution_count": 96,
   "id": "c63ef5eb-71df-45c5-b241-d3fbfa9c228e",
   "metadata": {
    "tags": []
   },
   "outputs": [],
   "source": [
    "encoder = OrdinalEncoder(categories =[['Low','Intermediate','High']])\n",
    "example = cancer['Risk'].copy()\n",
    "cancer['Risk'] = encoder.fit_transform(cancer[['Risk']]).astype(int)"
   ]
  },
  {
   "cell_type": "code",
   "execution_count": 97,
   "id": "2f3a9f09-e964-44ae-b659-8feea529c5e2",
   "metadata": {
    "tags": []
   },
   "outputs": [],
   "source": [
    "cancer['Tumor Size'] = cancer['T'].str.replace('^T1.*', '1', case=False, regex=True)\n",
    "cancer['Tumor Size'] = cancer['Tumor Size'].str.replace('^T2.*', '2', case=False, regex=True)\n",
    "cancer['Tumor Size'] = cancer['Tumor Size'].str.replace('^T3.*', '3', case=False, regex=True)\n",
    "cancer['Tumor Size'] = cancer['Tumor Size'].str.replace('^T4.*', '4', case=False, regex=True)\n",
    "cancer.drop('T', axis=1, inplace=True)\n",
    "cancer['Tumor Size'] = cancer['Tumor Size'].astype(int)"
   ]
  },
  {
   "cell_type": "code",
   "execution_count": 98,
   "id": "5a063b31-9e03-4792-a469-8c6dc9b70df3",
   "metadata": {
    "tags": []
   },
   "outputs": [],
   "source": [
    "cancer['Multi-Focal'] = cancer['Focality'].apply(lambda x: 1 if x=='Multi-Focal' else 0)\n",
    "cancer.drop('Focality', axis=1, inplace=True)"
   ]
  },
  {
   "cell_type": "code",
   "execution_count": 99,
   "id": "752da1af-bd2e-45cd-8fc3-d3cb29558262",
   "metadata": {
    "tags": []
   },
   "outputs": [],
   "source": [
    "cancer['Lymph Spread'] = cancer['N'].apply(lambda x: 0 if x=='N0' else 1)\n",
    "cancer.drop('N',axis=1, inplace=True)"
   ]
  },
  {
   "cell_type": "code",
   "execution_count": 100,
   "id": "af4b3dba-268f-43dd-b583-31afabd8a5f7",
   "metadata": {
    "tags": []
   },
   "outputs": [],
   "source": [
    "cancer['Metastatic'] = cancer['M'].apply(lambda x: 1 if x=='M1' else 0)\n",
    "cancer.drop('M', axis=1, inplace=True)"
   ]
  },
  {
   "cell_type": "code",
   "execution_count": 101,
   "id": "13f85f3b-abe6-4037-98a6-d01f987432c6",
   "metadata": {
    "tags": []
   },
   "outputs": [],
   "source": [
    "cancer['Male'] = cancer['Gender'].apply(lambda x: 1 if x=='M' else 0)\n",
    "cancer.drop('Gender', axis=1, inplace=True)"
   ]
  },
  {
   "cell_type": "code",
   "execution_count": 102,
   "id": "9b8d31de-b565-4190-9ab2-970af92bc6bd",
   "metadata": {
    "tags": []
   },
   "outputs": [],
   "source": [
    "encoder2 = OrdinalEncoder(categories = [['Structural Incomplete','Indeterminate', 'Biochemical Incomplete', 'Excellent']])\n",
    "cancer['Response'] = encoder2.fit_transform(cancer[['Response']]).astype(int)"
   ]
  },
  {
   "cell_type": "code",
   "execution_count": 103,
   "id": "0f2a1b2c-2ae4-4d5d-a450-90c9b6be3970",
   "metadata": {
    "tags": []
   },
   "outputs": [],
   "source": [
    "cancer['Stage'] = cancer['Stage'].replace({'IVA':'IV','IVB':'IV'})"
   ]
  },
  {
   "cell_type": "code",
   "execution_count": 104,
   "id": "bc8f7328-c028-43b3-a584-fb94b0152fa5",
   "metadata": {
    "tags": []
   },
   "outputs": [],
   "source": [
    "encoder3 = OrdinalEncoder(categories=[['I', 'II', 'III', 'IV']])\n",
    "cancer['Stage'] = encoder3.fit_transform(cancer[['Stage']]).astype(int)"
   ]
  },
  {
   "cell_type": "code",
   "execution_count": 105,
   "id": "66b74ba5-c1c8-4a20-9645-652dcc3ce59b",
   "metadata": {
    "tags": []
   },
   "outputs": [],
   "source": [
    "cancer['Recurred'] = cancer['Recurred'].apply(lambda x: 1 if x=='Yes' else 0)"
   ]
  },
  {
   "cell_type": "markdown",
   "id": "73b0b484-5289-4fb2-a7b3-93d1509fd7c7",
   "metadata": {},
   "source": [
    "## Model"
   ]
  },
  {
   "cell_type": "code",
   "execution_count": 106,
   "id": "8a370f6f-6b57-4cee-ac90-9243a8b92817",
   "metadata": {
    "tags": []
   },
   "outputs": [],
   "source": [
    "X = cancer.drop('Recurred', axis=1)\n",
    "y = cancer['Recurred']"
   ]
  },
  {
   "cell_type": "code",
   "execution_count": 107,
   "id": "fde8816c-a94d-4c89-a91d-d7f293056eac",
   "metadata": {
    "tags": []
   },
   "outputs": [],
   "source": [
    "from sklearn.model_selection import train_test_split, GridSearchCV\n",
    "from sklearn.ensemble import RandomForestClassifier\n",
    "from sklearn.feature_selection import SequentialFeatureSelector\n",
    "from sklearn.metrics import confusion_matrix, precision_recall_fscore_support, mean_squared_error"
   ]
  },
  {
   "cell_type": "markdown",
   "id": "42efa15d-0db1-4446-9d8d-8550bf0fd96d",
   "metadata": {},
   "source": [
    "### Feature Selection"
   ]
  },
  {
   "cell_type": "code",
   "execution_count": 108,
   "id": "5e1aaf1b-3783-4e11-8b15-e5b5421299bc",
   "metadata": {
    "tags": []
   },
   "outputs": [],
   "source": [
    "model = RandomForestClassifier(n_jobs=-1, n_estimators=100, max_depth=10)\n",
    "sfs = SequentialFeatureSelector(estimator = model, n_features_to_select = 5, direction='forward')\n",
    "sfs.fit(X,y)\n",
    "features = sfs.get_feature_names_out()"
   ]
  },
  {
   "cell_type": "markdown",
   "id": "e3a1f9ef-1dbc-46b5-952c-646a5a50f971",
   "metadata": {},
   "source": [
    "## Scikit-learn RFC"
   ]
  },
  {
   "cell_type": "code",
   "execution_count": 109,
   "id": "7a8230ed-ccc8-4b39-8207-b583468835eb",
   "metadata": {
    "tags": []
   },
   "outputs": [
    {
     "name": "stdout",
     "output_type": "stream",
     "text": [
      "Accuracy: 0.96875\n",
      "\n",
      "Confusion Matrix:\n",
      " [[68  3]\n",
      " [ 0 25]]\n"
     ]
    }
   ],
   "source": [
    "model = RandomForestClassifier(n_jobs=-1, n_estimators=20, max_depth=10)\n",
    "X_train, X_test, y_train, y_test = train_test_split(X,y,test_size=0.25, random_state=42)\n",
    "model.fit(X_train[features], y_train)\n",
    "\n",
    "print(f'Accuracy: {model.score(X_test[features], y_test)}\\n')\n",
    "\n",
    "y_pred = model.predict(X_test[features])\n",
    "conf = confusion_matrix(y_pred,y_test)\n",
    "print(f'Confusion Matrix:\\n {conf}')\n"
   ]
  },
  {
   "cell_type": "markdown",
   "id": "16c99e32-f255-4a3b-ba4f-a783ebdaa5d1",
   "metadata": {},
   "source": [
    "### Grid Search "
   ]
  },
  {
   "cell_type": "code",
   "execution_count": null,
   "id": "10c06e2c-91aa-4317-a133-14a111d58a13",
   "metadata": {
    "tags": []
   },
   "outputs": [],
   "source": [
    "n_estimators = [int(x) for x in np.linspace(1,200,21)]\n",
    "max_depth = [int(x) for x in np.linspace(1,200,21)]\n",
    "max_depth.append(None)\n",
    "params = {'n_estimators': n_estimators, 'max_depth':max_depth}\n",
    "\n",
    "grid = GridSearchCV(estimator=model, param_grid=params)\n",
    "grid.fit(X_train[features],y_train)"
   ]
  },
  {
   "cell_type": "code",
   "execution_count": null,
   "id": "5a6b78f8-38a2-4dc0-91c3-5c25d0d3c1be",
   "metadata": {},
   "outputs": [],
   "source": [
    "best_params = grid.best_params_\n",
    "best_params"
   ]
  },
  {
   "cell_type": "markdown",
   "id": "3fc23d88-b53b-4d8e-9f52-bce06baf16ee",
   "metadata": {
    "tags": []
   },
   "source": [
    "### RFC Revisited with Hyperparameter Tuning"
   ]
  },
  {
   "cell_type": "code",
   "execution_count": null,
   "id": "6bd7a336-e03c-4ef3-b3c4-442a2bce5c82",
   "metadata": {
    "tags": []
   },
   "outputs": [],
   "source": [
    "model = RandomForestClassifier(n_jobs=-1, n_estimators=110, max_depth=10)\n",
    "X_train, X_test, y_train, y_test = train_test_split(X,y,test_size=0.25, random_state=42)\n",
    "model.fit(X_train[features], y_train)\n",
    "\n",
    "print(f'Accuracy: {model.score(X_test[features], y_test)}\\n')\n",
    "\n",
    "y_pred = model.predict(X_test[features])\n",
    "conf = confusion_matrix(y_pred,y_test)\n",
    "print(f'Confusion Matrix:\\n {conf}')\n"
   ]
  },
  {
   "cell_type": "markdown",
   "id": "411562dc-907e-41d1-8723-2d2e9e3d16d9",
   "metadata": {},
   "source": [
    "## Using XGBoost"
   ]
  },
  {
   "cell_type": "code",
   "execution_count": null,
   "id": "3c396855-88a4-4115-9869-d2d445966c99",
   "metadata": {
    "tags": []
   },
   "outputs": [],
   "source": [
    "dtrain_clf = xgb.DMatrix(X_train, y_train)\n",
    "dtest_clf = xgb.DMatrix(X_test, y_test)"
   ]
  },
  {
   "cell_type": "code",
   "execution_count": null,
   "id": "749f0e16-6346-4b82-bd46-de18607f431d",
   "metadata": {
    "tags": []
   },
   "outputs": [],
   "source": [
    "params = {\"objective\": \"binary:logitraw\", \"tree_method\": \"hist\"}\n",
    "\n",
    "n = 1000\n",
    "result = xgb.cv(\n",
    "    params=params,\n",
    "    dtrain=dtrain_clf,\n",
    "    num_boost_round=n,\n",
    "    nfold=5,\n",
    "    early_stopping_rounds=20,\n",
    "    metrics=[\"auc\"]\n",
    ")\n",
    "\n",
    "result.head()"
   ]
  },
  {
   "cell_type": "markdown",
   "id": "2fd04df5-7d11-4933-9c28-6051ab92729d",
   "metadata": {},
   "source": [
    "We see that the boosted tree ends on the 4th iteration, where we have a mean ROC AUC of 0.995, a significant improvement over the non boosted models."
   ]
  }
 ],
 "metadata": {
  "kernelspec": {
   "display_name": "Python 3 (ipykernel)",
   "language": "python",
   "name": "python3"
  },
  "language_info": {
   "codemirror_mode": {
    "name": "ipython",
    "version": 3
   },
   "file_extension": ".py",
   "mimetype": "text/x-python",
   "name": "python",
   "nbconvert_exporter": "python",
   "pygments_lexer": "ipython3",
   "version": "3.11.1"
  }
 },
 "nbformat": 4,
 "nbformat_minor": 5
}
